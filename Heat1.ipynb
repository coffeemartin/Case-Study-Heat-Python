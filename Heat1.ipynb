{
 "cells": [
  {
   "cell_type": "markdown",
   "metadata": {
    "collapsed": false
   },
   "source": [
    "<h3>Lab 7</h3>\n",
    "\n",
    "# Feel the Heat! Part 1\n",
    "\n",
    "<div>\n",
    "    <img src=\"temperature-anomolies.gif\" width=700><br>\n",
    "</div>\n",
    "\n",
    "<small>Source: [110 Years of Australian Temperatures](http://www.bom.gov.au/climate/history/temperature/), Bureau of Meteorology</small>\n",
    "\n",
    "\n",
    "We might *[love a sunburnt country](https://en.wikipedia.org/wiki/My_Country#/media/File:My_Country_part_1.jpg)*, but Dorothea Mackellar in 1908 couldn't have envisioned quite how sunburnt its getting!\n",
    "\n",
    "The 2019 temperature anomolies map (shown above) paints another alarming picture! Of course, this is just one year, and we are interested in trends.\n",
    "\n",
    "In this lab, we will again examine raw data from the Bureau of Meteorology. This time we will focus on maximum temperatures for Western Australian towns, from the north to the south.\n",
    "\n",
    "This lab also provides practice working with **2-dimensional arrays**.\n"
   ]
  },
  {
   "cell_type": "markdown",
   "metadata": {
    "collapsed": false
   },
   "source": [
    "## Data Acquisition and Inspection\n",
    "\n",
    "Once again we will source our data from the Australian Government's **Bureau of Meteorology (BOM)** *Climate Data Online* service.\n",
    "\n",
    "* Find the _monthly average maximum temperature_ data.\n",
    "* Find and download the historical data for:\n",
    "  * Perth Airport\n",
    "  * Geraldton Town\n",
    "  * Albany\n",
    "  * Broome Airport\n",
    "\n",
    "* Have a look at the data. Read one of the `Note.txt` files so that you can see what is in each file, and the structure.\n",
    "* Inspect one of each type of data file to see that they conform to your expectations from reading the Note.\n",
    "\n",
    "The temperature data is _time series data_ so of course changes over time. For this lab, you have been provided with a snapshot of this data (with suffix `_20`) so that we are all using the same set of data, and I can give examples of the output you should expect.\n",
    "\n",
    "You may upload the latest data to your CoCalc project for extra examples if you wish, taking care of course not to overwrite the provided data. The folders for each town should not be more than about 60KB each.\n"
   ]
  },
  {
   "cell_type": "markdown",
   "metadata": {
    "collapsed": false
   },
   "source": [
    "#### Set up\n",
    "\n",
    "We will set up our constants as follows.\n",
    "\n",
    "- In this lab we will use the second kind of file discussed in `Note.txt` (12 months per line).\n",
    "\n",
    "- We will use a dictionary to map town names to the station codes. This will allow us to easily find the data for each town.\n",
    "\n",
    "- For simplicity we will only use one \"product\" (monthly maximum temperatures), however you can see that we could easily generalise this to other data sets (products) in a similar way to the stations."
   ]
  },
  {
   "cell_type": "code",
   "execution_count": 2,
   "metadata": {
    "collapsed": false,
    "deletable": false,
    "editable": false,
    "nbgrader": {
     "grade": false,
     "grade_id": "c783c7",
     "locked": true,
     "schema_version": 3,
     "solution": false,
     "task": false
    }
   },
   "outputs": [
   ],
   "source": [
    "MONTHLY_TEMPERATURE = \"IDCJAC0002\"\n",
    "PER_LINE = 12\n",
    "\n",
    "STATIONS = {\"Albany\": \"009500\",\n",
    "            \"Perth\": \"009021\",\n",
    "            \"Broome\": \"003003\",\n",
    "            \"Geraldton\": \"008050\"\n",
    "           }"
   ]
  },
  {
   "cell_type": "markdown",
   "metadata": {
    "collapsed": false
   },
   "source": [
    "## File paths\n",
    "\n",
    "#### Using `format()`\n",
    "First, lets use the `format()` function to recreate a directory name and a filename. We'll use Albany as an example.\n",
    "\n",
    "If you have note used string formatting before, have a look at the documentation for `format()` at: https://docs.python.org/3.8/library/string.html#format-string-syntax. If you are not familiar with specification languages (you are not expected to be) it is better to look at the examples further down that page.\n",
    "\n",
    "(You should use the the \"new\" `{}` formatting, not the \"old\" `%` formatting.)\n",
    "\n",
    "For example, to generate the directory name we could use:\n",
    "```\n",
    "albany_dir_name = \"{}_{}\".format(MONTHLY_TEMPERATURE, STATIONS[\"Albany\"])\n",
    "```\n",
    "\n",
    "* Try this and check the output.\n",
    "* Use `format()` with the above constants to generate the file name for the 12 months per line mean maximum temperature data for Albany.\n"
   ]
  },
  {
   "cell_type": "code",
   "execution_count": 3,
   "metadata": {
    "collapsed": false
   },
   "outputs": [
    {
     "name": "stdout",
     "output_type": "stream",
     "text": [
      "IDCJAC0002_009500\n",
      "IDCJAC0002_009500_Data12.csv\n"
     ]
    }
   ],
   "source": [
    "albany_dir_name = \"{}_{}\".format(MONTHLY_TEMPERATURE, STATIONS[\"Albany\"])\n",
    "print(albany_dir_name)\n",
    "albany_file = \"{}_{}_Data{}.csv\".format (MONTHLY_TEMPERATURE, STATIONS[\"Albany\"], PER_LINE)\n",
    "print(albany_file)"
   ]
  },
  {
   "cell_type": "code",
   "execution_count": 0,
   "metadata": {
    "collapsed": false
   },
   "outputs": [
   ],
   "source": [
   ]
  },
  {
   "cell_type": "markdown",
   "metadata": {
    "collapsed": false
   },
   "source": [
    "#### Using `pathlib`\n",
    "\n",
    "So far we have just used strings for filenames. When extracting data from a filesystem, however, it is much cleaner to use _objects_ representing file paths. The `pathlib` library is excellent for this. \n",
    "\n",
    "Have a look at the [pathlib documentation](https://docs.python.org/3/library/pathlib.html). We will use some basic pathlib utilities here, but you can see that switching from simple strings to pathlib objects provides a lot more utility.\n",
    "\n",
    "Let's start by checking our \"current working directory\" (or \"folder\").\n",
    "\n",
    "* Execute the following code.\n",
    "```\n",
    "from pathlib import Path\n",
    "print(Path.cwd())\n",
    "Path.cwd()\n",
    "```\n",
    "* Go to the \"folder\" icon in the tabs bar, and open a new linux terminal. Type `pwd` (\"print working directory\") at the terminal prompt. \n",
    "* In python execute:\n",
    "```\n",
    "!pwd\n",
    "```\n",
    "How to they compare?\n"
   ]
  },
  {
   "cell_type": "code",
   "execution_count": 4,
   "metadata": {
    "collapsed": false
   },
   "outputs": [
    {
     "name": "stdout",
     "output_type": "stream",
     "text": [
      "/home/user/Labs/Heat1\n"
     ]
    },
    {
     "data": {
      "text/plain": [
       "PosixPath('/home/user/Labs/Heat1')"
      ]
     },
     "execution_count": 4,
     "metadata": {
     },
     "output_type": "execute_result"
    }
   ],
   "source": [
    "from pathlib import Path\n",
    "print(Path.cwd())\n",
    "Path.cwd()"
   ]
  },
  {
   "cell_type": "code",
   "execution_count": 5,
   "metadata": {
    "collapsed": false
   },
   "outputs": [
    {
     "name": "stdout",
     "output_type": "stream",
     "text": [
      "/home/user/Labs/Heat1\r\n"
     ]
    }
   ],
   "source": [
    "!pwd"
   ]
  },
  {
   "cell_type": "code",
   "execution_count": 0,
   "metadata": {
    "collapsed": false
   },
   "outputs": [
   ],
   "source": [
   ]
  },
  {
   "cell_type": "code",
   "execution_count": 0,
   "metadata": {
    "collapsed": false
   },
   "outputs": [
   ],
   "source": [
   ]
  },
  {
   "cell_type": "markdown",
   "metadata": {
    "collapsed": false
   },
   "source": [
    "pathlib defines the forward slash `/` as a convenient operator for building paths in a Unix-like way.\n",
    "\n",
    "Let's use pathlib to examine the directory for the previous lab. Try:\n",
    "```\n",
    "rainfall = Path.home()/\"Labs\"/\"Rainfall\"\n",
    "print(rainfall)\n",
    "print(rainfall.is_dir(),\"\\n\")\n",
    "for file_path in rainfall.iterdir():\n",
    "    print(file_path)\n",
    "for file_path in rainfall.iterdir():\n",
    "    print(file_path.name)\n",
    "```\n",
    "The first line uses the shorthand `/` operator to create a new path object. The third line confirms that this is the path of a directory. Notice that the iterator returns path objects. To find the name of the file at that path, we look at the attribute `name`."
   ]
  },
  {
   "cell_type": "code",
   "execution_count": 6,
   "metadata": {
    "collapsed": false
   },
   "outputs": [
    {
     "name": "stdout",
     "output_type": "stream",
     "text": [
      "/home/user/Labs/Rainfall\n",
      "True \n",
      "\n",
      "/home/user/Labs/Rainfall/airport2021.png\n",
      "/home/user/Labs/Rainfall/DUE_DATE.txt\n",
      "/home/user/Labs/Rainfall/Rainfall.ipynb\n",
      "/home/user/Labs/Rainfall/squares.png\n",
      "/home/user/Labs/Rainfall/rainfall-deciles.png\n",
      "/home/user/Labs/Rainfall/IDCJAC0001_009025_Data1.csv\n",
      "/home/user/Labs/Rainfall/IDCJAC0001_009021_Data1.csv\n",
      "/home/user/Labs/Rainfall/airport50-60.png\n",
      "/home/user/Labs/Rainfall/.Rainfall.ipynb.sage-jupyter2\n",
      "airport2021.png\n",
      "DUE_DATE.txt\n",
      "Rainfall.ipynb\n",
      "squares.png\n",
      "rainfall-deciles.png\n",
      "IDCJAC0001_009025_Data1.csv\n",
      "IDCJAC0001_009021_Data1.csv\n",
      "airport50-60.png\n",
      ".Rainfall.ipynb.sage-jupyter2\n"
     ]
    }
   ],
   "source": [
    "rainfall = Path.home()/\"Labs\"/\"Rainfall\"\n",
    "print(rainfall)\n",
    "print(rainfall.is_dir(),\"\\n\")\n",
    "for file_path in rainfall.iterdir():\n",
    "    print(file_path)\n",
    "for file_path in rainfall.iterdir():\n",
    "    print(file_path.name)"
   ]
  },
  {
   "cell_type": "code",
   "execution_count": 0,
   "metadata": {
    "collapsed": false
   },
   "outputs": [
   ],
   "source": [
   ]
  },
  {
   "cell_type": "markdown",
   "metadata": {
    "collapsed": false
   },
   "source": [
    "* Create a path object from `albany_dir_name` and use this to list the contents of the Albany directory.\n",
    "* Using this directory path, create a path to the 12 months per line data file for Albany.\n",
    "* Check that the file exists. This is a good way of double checking that you generated the path correctly.\n",
    "\n",
    "_(Hint: Look at the documentation.)_\n",
    "\n",
    "* Check the file size.\n",
    "* Read in the contents of the file, print the first 100 characters, and check it is what you expect.\n",
    "* Give thanks to John McCarthy (LISP) and Alan Kay (Smalltalk)!\n"
   ]
  },
  {
   "cell_type": "code",
   "execution_count": 7,
   "metadata": {
    "collapsed": false
   },
   "outputs": [
    {
     "name": "stdout",
     "output_type": "stream",
     "text": [
      "Product code,Station Number,Year,Jan,Feb,Mar,Apr,May,Jun,Jul,Aug,Sep,Oct,Nov,Dec,Annual\n",
      "IDCJAC0002,0\n"
     ]
    }
   ],
   "source": [
    "file_name = \"{}_{}_{}\".format(MONTHLY_TEMPERATURE, STATIONS[\"Albany\"],\"Data12.csv\")\n",
    "p = Path.home()/\"Labs\"/\"Heat1\"/albany_dir_name/file_name\n",
    "p\n",
    "p.exists()\n",
    "p.stat().st_size\n",
    "\n",
    "with open(p,\"r\") as myfile:\n",
    "    file_content = myfile.read()\n",
    "    print(file_content[:100])\n",
    "\n",
    "#for file_path in p.iterdir():\n",
    "    #print(file_path.name)"
   ]
  },
  {
   "cell_type": "code",
   "execution_count": 8,
   "metadata": {
    "collapsed": false
   },
   "outputs": [
    {
     "name": "stdout",
     "output_type": "stream",
     "text": [
      "IDCJAC0002_009500\n",
      "IDCJAC0002_009500/IDCJAC0002_009500_Data12.csv\n",
      "IDCJAC0002_009500/IDCJAC0002_009500_Data1.csv\n",
      "IDCJAC0002_009500/IDCJAC0002_009500_Note.txt\n",
      "True\n",
      "9612\n",
      "Product code,Station Number,Year,Jan,Feb,Mar,Apr,May,Jun,Jul,Aug,Sep,Oct,Nov,Dec,Annual\n",
      "IDCJAC0002,0\n"
     ]
    }
   ],
   "source": [
    "albany_dir = Path(albany_dir_name) #no need do cwd as it will be default relative to where this is running from (CWD)\n",
    "print(albany_dir)\n",
    "for file in albany_dir.iterdir():\n",
    "    print(file)\n",
    "albany_path = albany_dir / albany_file\n",
    "print(albany_path.exists())\n",
    "print(albany_path.stat().st_size)\n",
    "print(albany_path.read_text()[:100])"
   ]
  },
  {
   "cell_type": "code",
   "execution_count": 0,
   "metadata": {
    "collapsed": false
   },
   "outputs": [
   ],
   "source": [
   ]
  },
  {
   "cell_type": "markdown",
   "metadata": {
    "collapsed": false
   },
   "source": [
    "#### Q1. Putting it together [1 lab mark]\n",
    "\n",
    "* Write a \"helper\" function `temperature_file(town)` that takes the name of a town (as defined in STATIONS) and returns a path to the data file.\n",
    "\n",
    "For example:\n",
    "\n",
    "```\n",
    "temperature_file(\"Albany\")\n",
    "\n",
    "PosixPath('IDCJAC0002_009500/IDCJAC0002_009500_Data12.csv')\n",
    "```\n"
   ]
  },
  {
   "cell_type": "code",
   "execution_count": 9,
   "metadata": {
    "collapsed": false,
    "deletable": false,
    "nbgrader": {
     "cell_type": "code",
     "checksum": "6ae362f71f4bca9bb217b2d9de412dc3",
     "grade": false,
     "grade_id": "e37210",
     "locked": false,
     "schema_version": 3,
     "solution": true,
     "task": false
    }
   },
   "outputs": [
   ],
   "source": [
    "def temperature_file (town):\n",
    "    dir_name = \"{}_{}\".format(MONTHLY_TEMPERATURE, STATIONS[town])\n",
    "    \n",
    "    file_name = \"{}_{}_{}\".format(MONTHLY_TEMPERATURE, STATIONS[town],\"Data12.csv\")\n",
    "    \n",
    "    p = Path(dir_name)/file_name\n",
    "    \n",
    "    return p\n",
    "    \n",
    "\n"
   ]
  },
  {
   "cell_type": "code",
   "execution_count": 10,
   "metadata": {
    "collapsed": false,
    "deletable": false,
    "editable": false,
    "nbgrader": {
     "grade": true,
     "grade_id": "temperature_file",
     "locked": true,
     "points": 1,
     "schema_version": 3,
     "solution": false,
     "task": false
    }
   },
   "outputs": [
    {
     "name": "stdout",
     "output_type": "stream",
     "text": [
      "So far, so good.\n"
     ]
    }
   ],
   "source": [
    "from nose.tools import assert_equal\n",
    "broome_file = temperature_file(\"Broome\")\n",
    "import pathlib\n",
    "assert_equal(type(broome_file), pathlib.PosixPath)\n",
    "assert_equal(str(broome_file), \"IDCJAC0002_003003/IDCJAC0002_003003_Data12.csv\")\n",
    "assert_equal(broome_file.is_file(), True)\n",
    "print(\"So far, so good.\")\n"
   ]
  },
  {
   "cell_type": "markdown",
   "metadata": {
    "collapsed": false
   },
   "source": [
    "### Missing values, NaN, and np.nan\n",
    "\n",
    "In python, we can use `None` for missing items, for example in a list. Try:\n",
    "```\n",
    "alist = ['a',1, None, ['b']]\n",
    "[type(item) for item in alist]\n",
    "```\n",
    "But what if we want to represent missing data in an array?\n",
    "\n",
    "We know that arrays are homogenous. `None` is of type `NoneType`, so it can't be included in an array of numbers. What happens if we try?\n",
    "```\n",
    "anarray = np.array([0.0, None], dtype=float)\n",
    "anarray.dtype\n",
    "```\n",
    "It appears to have worked. But let's take a closer look:\n",
    "```anarray\n",
    "\n",
    "array([ 0., nan])\n",
    "```\n",
    "\n",
    "To keep the compatible type (`float64`), numpy has replaced `None` with `np.nan` (or `np.NaN`), or _not-a-number_. `nan` is  a special float defined for this purpose, long before python came along, by [IEEE 754](https://numpy.org/doc/stable/user/misc.html).\n",
    "\n",
    "One thing to bear in mind about NaN's is they are not equal to other NaN's:\n",
    "```\n",
    "a = np.nan\n",
    "b = np.nan\n",
    "a == b\n",
    "\n",
    "False\n",
    "```\n",
    "\n",
    "So when testing for `np.nan`, always use `np.isnan()`:\n",
    "```\n",
    "a = np.nan\n",
    "b = np.nan\n",
    "np.isnan(a) and np.isnan(b)\n",
    "\n",
    "True\n",
    "```\n"
   ]
  },
  {
   "cell_type": "code",
   "execution_count": 11,
   "metadata": {
    "collapsed": false
   },
   "outputs": [
    {
     "data": {
      "text/plain": [
       "[str, int, NoneType, list]"
      ]
     },
     "execution_count": 11,
     "metadata": {
     },
     "output_type": "execute_result"
    }
   ],
   "source": [
    "alist = ['a',1, None, ['b']]\n",
    "[type(item) for item in alist]"
   ]
  },
  {
   "cell_type": "code",
   "execution_count": 12,
   "metadata": {
    "collapsed": false
   },
   "outputs": [
   ],
   "source": [
    "import numpy as np"
   ]
  },
  {
   "cell_type": "code",
   "execution_count": 13,
   "metadata": {
    "collapsed": false
   },
   "outputs": [
    {
     "data": {
      "text/plain": [
       "[dtype('float64'), dtype('float64')]"
      ]
     },
     "execution_count": 13,
     "metadata": {
     },
     "output_type": "execute_result"
    }
   ],
   "source": [
    "anarray = np.array([0.0, None], dtype=float)\n",
    "anarray.dtype\n",
    "\n",
    "[item.dtype for item in anarray]"
   ]
  },
  {
   "cell_type": "code",
   "execution_count": 14,
   "metadata": {
    "collapsed": false
   },
   "outputs": [
   ],
   "source": [
    "#np.array([ 0., nan])"
   ]
  },
  {
   "cell_type": "code",
   "execution_count": 15,
   "metadata": {
    "collapsed": false
   },
   "outputs": [
    {
     "data": {
      "text/plain": [
       "False"
      ]
     },
     "execution_count": 15,
     "metadata": {
     },
     "output_type": "execute_result"
    }
   ],
   "source": [
    "a = np.nan\n",
    "b = np.nan\n",
    "a == b\n"
   ]
  },
  {
   "cell_type": "code",
   "execution_count": 16,
   "metadata": {
    "collapsed": false
   },
   "outputs": [
    {
     "data": {
      "text/plain": [
       "True"
      ]
     },
     "execution_count": 16,
     "metadata": {
     },
     "output_type": "execute_result"
    }
   ],
   "source": [
    "a = np.nan\n",
    "b = np.nan\n",
    "np.isnan(a) and np.isnan(b)"
   ]
  },
  {
   "cell_type": "markdown",
   "metadata": {
    "collapsed": false
   },
   "source": [
    "## Putting the data in a 2-D array, using `np.genfromtxt`\n",
    "\n",
    "In the last lab we used the `csv` package for parsing text files. While `csv` is particularly targeted at reading csv (-like) files, a range of other libraries include their own bespoke file/buffer/string parsers.\n",
    "\n",
    "For example, `numpy` has `fromstring`, `loadtxt` and the more general `genfromtxt` (as well as others for different file/buffer types).\n",
    "\n",
    "`genfromtxt` is extremely versatile - for example, it allows us to skip rows, select columns and deal with missing values.\n",
    "\n",
    "Have a closer inspection of one of our 12 month per line data files. They have:\n",
    " * a header row, that we won't need for analysis\n",
    " * 16 columns, but not all of them are needed\n",
    " * missing values, represented by the string \"null\"\n",
    "\n",
    "This makes `genfromtxt` a great choice, because we can skip some cleaning work by reading just what we need.\n",
    "\n",
    "* Read the API for `genfromtxt` in the latest version of the numpy manual.\n",
    "* Read the data for Albany into an array `albany` (1 line of code). Your array should:\n",
    "  * exclude the header line\n",
    "  * exclude the first two columns (code and station number)\n",
    "  * ensure any occurrences of \"null\" are replaced with `nan`\n",
    "\n",
    "```\n",
    "print(albany[-4:])\n",
    "\n",
    "[[2017.    22.1   22.2   21.8   20.1   19.4   19.    15.9   16.7   17.5\n",
    "    19.1   20.6   21.5   19.7]\n",
    " [2018.    22.4   23.    22.4   21.2   20.7   17.4   17.    16.2   17.\n",
    "    19.    18.7   21.1   19.7]\n",
    " [2019.    22.2   22.2   21.2   21.2   18.7   17.6   16.8   17.9   19.3\n",
    "    19.3   19.4   23.5   19.9]\n",
    " [2020.    22.2   23.4   23.1   21.2   19.6   18.9   17.3    nan    nan\n",
    "     nan    nan    nan    nan]]\n",
    "```\n",
    "\n",
    "Note that `gefromtxt()` will accept a `pathlib` `Path`, and you should use this rather than strings.\n",
    "\n",
    "The the resulting array should be of type float64. This should happen by default, you don't need to specify it - but you should check it (see `np.dtype`). As we know the array is homogeneous, so this includes the years, and the missing values.\n",
    "\n",
    "* Consult the [array attributes](https://numpy.org/doc/stable/reference/arrays.ndarray.html#array-attributes) documentation, and print the _shape_ of the albany array, the _number of dimensions_, and its _dtype_."
   ]
  },
  {
   "cell_type": "code",
   "execution_count": 17,
   "metadata": {
    "collapsed": false
   },
   "outputs": [
    {
     "data": {
      "text/plain": [
       "array([[2019. ,   22.2,   22.2,   21.2,   21.2,   18.7,   17.6,   16.8,\n",
       "          17.9,   19.3,   19.3,   19.4,   23.5,   19.9],\n",
       "       [2020. ,   22.2,   23.4,   23.1,   21.2,   19.6,   18.9,   17.3,\n",
       "          16.9,   18.1,   19.4,   20.5,   21.1,   20.1],\n",
       "       [2021. ,   22.8,   21.9,   23.6,   21.1,   19.7,   17.5,   16. ,\n",
       "          17.2,   18.1,   18. ,   18.8,   21.3,   19.7],\n",
       "       [2022. ,   22.4,   23.6,   22.6,   21.4,   19. ,   17.6,   17.2,\n",
       "          15.9,    nan,    nan,    nan,    nan,    nan]])"
      ]
     },
     "execution_count": 17,
     "metadata": {
     },
     "output_type": "execute_result"
    }
   ],
   "source": [
    "albany_path = temperature_file (\"Albany\")\n",
    "albany_path\n",
    "albany = np.genfromtxt(albany_path,delimiter=\",\",skip_header = 1, filling_values=np.nan,usecols = (np.arange(2,16)))\n",
    "albany[:3]\n",
    "albany[-4:]\n",
    "\n",
    "# missing_values = [\"null\"]"
   ]
  },
  {
   "cell_type": "code",
   "execution_count": 18,
   "metadata": {
    "collapsed": false
   },
   "outputs": [
    {
     "data": {
      "text/plain": [
       "dtype('float64')"
      ]
     },
     "execution_count": 18,
     "metadata": {
     },
     "output_type": "execute_result"
    }
   ],
   "source": [
    "albany.dtype"
   ]
  },
  {
   "cell_type": "code",
   "execution_count": 19,
   "metadata": {
    "collapsed": false
   },
   "outputs": [
    {
     "data": {
      "text/plain": [
       "(107, 14)"
      ]
     },
     "execution_count": 19,
     "metadata": {
     },
     "output_type": "execute_result"
    }
   ],
   "source": [
    "np.shape(albany) "
   ]
  },
  {
   "cell_type": "code",
   "execution_count": 20,
   "metadata": {
    "collapsed": false
   },
   "outputs": [
    {
     "data": {
      "text/plain": [
       "2"
      ]
     },
     "execution_count": 20,
     "metadata": {
     },
     "output_type": "execute_result"
    }
   ],
   "source": [
    "albany.ndim"
   ]
  },
  {
   "cell_type": "code",
   "execution_count": 0,
   "metadata": {
    "collapsed": false
   },
   "outputs": [
   ],
   "source": [
   ]
  },
  {
   "cell_type": "code",
   "execution_count": 0,
   "metadata": {
    "collapsed": false
   },
   "outputs": [
   ],
   "source": [
   ]
  },
  {
   "cell_type": "code",
   "execution_count": 0,
   "metadata": {
    "collapsed": false
   },
   "outputs": [
   ],
   "source": [
   ]
  },
  {
   "cell_type": "markdown",
   "metadata": {
    "collapsed": false
   },
   "source": [
    "#### Selecting items in 2-d arrays\n",
    "\n",
    "We know how to select an item in a 1-d array using a slice. To select an item in a 2-d array, we just select the row and the column.\n",
    "\n",
    "For example, `albany[0,-1]` will select the item in the last (-1 th) column of the first (zeroth) row, that is, the annual average temperature for 1880.\n",
    "\n",
    "* Print out the annual average temperature for the last year in the table (1 line of code).\n",
    "* Print out the annual average temperature for the second last year in the table.\n"
   ]
  },
  {
   "cell_type": "code",
   "execution_count": 21,
   "metadata": {
    "collapsed": false
   },
   "outputs": [
    {
     "data": {
      "text/plain": [
       "nan"
      ]
     },
     "execution_count": 21,
     "metadata": {
     },
     "output_type": "execute_result"
    }
   ],
   "source": [
    "albany[-1,-1]"
   ]
  },
  {
   "cell_type": "code",
   "execution_count": 22,
   "metadata": {
    "collapsed": false
   },
   "outputs": [
    {
     "data": {
      "text/plain": [
       "19.7"
      ]
     },
     "execution_count": 22,
     "metadata": {
     },
     "output_type": "execute_result"
    }
   ],
   "source": [
    "albany[-2,-1]"
   ]
  },
  {
   "cell_type": "code",
   "execution_count": 23,
   "metadata": {
    "collapsed": false
   },
   "outputs": [
    {
     "data": {
      "text/plain": [
       "array([[16.2, 18. , 20.8],\n",
       "       [16.1, 18.7, 20.7],\n",
       "       [17.3, 17.8, 20.8],\n",
       "       [16.5, 18.2, 21.9],\n",
       "       [17.3, 19.5, 18.7]])"
      ]
     },
     "execution_count": 23,
     "metadata": {
     },
     "output_type": "execute_result"
    }
   ],
   "source": [
    "albany[:5,-4:-1]"
   ]
  },
  {
   "cell_type": "code",
   "execution_count": 24,
   "metadata": {
    "collapsed": false
   },
   "outputs": [
    {
     "data": {
      "text/plain": [
       "array([[1880. ,   22.1,   22.8, ...,   18. ,   20.8,   18.2],\n",
       "       [1881. ,   20.1,   22.2, ...,   18.7,   20.7,   18.2],\n",
       "       [1882. ,   20.2,   22.1, ...,   17.8,   20.8,   17.8],\n",
       "       ...,\n",
       "       [2020. ,   22.2,   23.4, ...,   20.5,   21.1,   20.1],\n",
       "       [2021. ,   22.8,   21.9, ...,   18.8,   21.3,   19.7],\n",
       "       [2022. ,   22.4,   23.6, ...,    nan,    nan,    nan]])"
      ]
     },
     "execution_count": 24,
     "metadata": {
     },
     "output_type": "execute_result"
    }
   ],
   "source": [
    "albany"
   ]
  },
  {
   "cell_type": "code",
   "execution_count": 25,
   "metadata": {
    "collapsed": false
   },
   "outputs": [
    {
     "data": {
      "text/plain": [
       "array([20.1, 20.1, 16.6])"
      ]
     },
     "execution_count": 25,
     "metadata": {
     },
     "output_type": "execute_result"
    }
   ],
   "source": [
    "albany [[2,3,4],[3,4,5]]"
   ]
  },
  {
   "cell_type": "code",
   "execution_count": 0,
   "metadata": {
    "collapsed": false
   },
   "outputs": [
   ],
   "source": [
   ]
  },
  {
   "cell_type": "markdown",
   "metadata": {
    "collapsed": false
   },
   "source": [
    "#### Q2. Inspecting the year range for a town [1 lab mark]\n",
    "\n",
    "* Write a function `year_range(town)` that returns a pair of integers representing the first year and the last year included in that town's table (you may assume the tables are always in the correct format and in chronological order).\n",
    "\n",
    "You should use `genfromtxt` to read the data, and then use array selection (no loops). This should only take a couple of lines of code!\n",
    "\n",
    "Check your answers for the various towns are correct."
   ]
  },
  {
   "cell_type": "code",
   "execution_count": 26,
   "metadata": {
    "collapsed": false,
    "deletable": false,
    "nbgrader": {
     "cell_type": "code",
     "checksum": "3526e652bd419db171afe22232b53755",
     "grade": false,
     "grade_id": "09b5ff",
     "locked": false,
     "schema_version": 3,
     "solution": true,
     "task": false
    }
   },
   "outputs": [
   ],
   "source": [
    "def year_range(town):\n",
    "    path = temperature_file (town)\n",
    "    text = np.genfromtxt(path,delimiter=\",\",skip_header = 1, filling_values=np.nan, usecols = (np.arange(2,16)))\n",
    "    return int(text[0,0]),int(text[-1,0])\n",
    "\n"
   ]
  },
  {
   "cell_type": "code",
   "execution_count": 27,
   "metadata": {
    "collapsed": false,
    "deletable": false,
    "editable": false,
    "nbgrader": {
     "grade": true,
     "grade_id": "year_range",
     "locked": true,
     "points": 1,
     "schema_version": 3,
     "solution": false,
     "task": false
    }
   },
   "outputs": [
    {
     "name": "stdout",
     "output_type": "stream",
     "text": [
      "So far, so good. Additional tests will be applied.\n"
     ]
    }
   ],
   "source": [
    "from nose.tools import assert_equal\n",
    "assert_equal(year_range(\"Albany\"), (1880, 2022))\n",
    "print(\"So far, so good. Additional tests will be applied.\")\n"
   ]
  },
  {
   "cell_type": "code",
   "execution_count": 28,
   "metadata": {
    "collapsed": false
   },
   "outputs": [
    {
     "data": {
      "text/plain": [
       "(1944, 2022)"
      ]
     },
     "execution_count": 28,
     "metadata": {
     },
     "output_type": "execute_result"
    }
   ],
   "source": [
    "year_range(\"Perth\")"
   ]
  },
  {
   "cell_type": "code",
   "execution_count": 29,
   "metadata": {
    "collapsed": false
   },
   "outputs": [
    {
     "data": {
      "text/plain": [
       "(1880, 1953)"
      ]
     },
     "execution_count": 29,
     "metadata": {
     },
     "output_type": "execute_result"
    }
   ],
   "source": [
    "year_range(\"Geraldton\")"
   ]
  },
  {
   "cell_type": "code",
   "execution_count": 30,
   "metadata": {
    "collapsed": false
   },
   "outputs": [
    {
     "data": {
      "text/plain": [
       "(1939, 2022)"
      ]
     },
     "execution_count": 30,
     "metadata": {
     },
     "output_type": "execute_result"
    }
   ],
   "source": [
    "year_range(\"Broome\")"
   ]
  },
  {
   "cell_type": "markdown",
   "metadata": {
    "collapsed": false
   },
   "source": [
    "#### Collecting all the data\n",
    "\n",
    "* Write a function `get_temps()` that, by iterating through the `STATIONS` dictionary in alphabetical order, returns:\n",
    "  * a list of town names in alphabetical order\n",
    "  * a list of arrays containing the corresponding tables of temperature data (including the year to the average annual temperature)\n",
    "\n",
    "So that you can observe the progress and get a better idea of what data is there, output the town name, rows of data and first and last years for each town. For example:\n",
    "\n",
    "```\n",
    "(towns, tables) = get_temps()\n",
    "\n",
    "Collecting data for Albany   :  107 years recorded between 1880 and 2022\n",
    "Collecting data for Broome   :   84 years recorded between 1939 and 2022\n",
    "Collecting data for Geraldton:   73 years recorded between 1880 and 1953\n",
    "Collecting data for Perth    :   79 years recorded between 1944 and 2022\n",
    "```\n",
    "\n",
    "*Hint: use str.format() to align the data in columns.*\n",
    "\n"
   ]
  },
  {
   "cell_type": "code",
   "execution_count": 31,
   "metadata": {
    "collapsed": false
   },
   "outputs": [
   ],
   "source": [
    "def get_temps():\n",
    "    towns = sorted(list(STATIONS.keys())) #can do sorted(STATIONS) to directly get the keys()\n",
    "    max_length = max([len(x) for x in towns])\n",
    "    tables = []\n",
    "    for station in towns:\n",
    "        path = temperature_file (station)\n",
    "        data = np.genfromtxt(path,delimiter=\",\",skip_header = 1, filling_values=np.nan, usecols = (np.arange(2,16)))\n",
    "        tables.append(data)\n",
    "        print('Collecting data for {town:<{width}} : {y_range:4.0f} years recorded between {first:.0f} and {last:.0f}'.format\n",
    "              (town= station, first=data[0,0],last = data[-1,0], y_range = len(data),width = max_length))\n",
    "    return towns,tables\n"
   ]
  },
  {
   "cell_type": "code",
   "execution_count": 32,
   "metadata": {
    "collapsed": false
   },
   "outputs": [
    {
     "name": "stdout",
     "output_type": "stream",
     "text": [
      "Collecting data for Albany    :  107 years recorded between 1880 and 2022\n",
      "Collecting data for Broome    :   84 years recorded between 1939 and 2022\n",
      "Collecting data for Geraldton :   73 years recorded between 1880 and 1953\n",
      "Collecting data for Perth     :   79 years recorded between 1944 and 2022\n"
     ]
    }
   ],
   "source": [
    "(towns, tables) = get_temps()\n"
   ]
  },
  {
   "cell_type": "code",
   "execution_count": 0,
   "metadata": {
    "collapsed": false
   },
   "outputs": [
   ],
   "source": [
   ]
  },
  {
   "cell_type": "markdown",
   "metadata": {
    "collapsed": false
   },
   "source": [
    "#### Q3. A 'production' version [1 lab mark]\n",
    "\n",
    "In this version the user has more control, including being able to turn the printed output on or off.\n",
    "\n",
    "* Write a function `get_temperatures (stations, quiet=True)` with the same specification as `get_temps` except that:\n",
    "  * a stations dictionary is passed to the function (rather than being 'hard wired' to STATIONS)\n",
    "  * it takes one optional argument, `quiet`, that defaults to `True`. If `quiet` is False, then it should print the output as it reads in the data, allowing the user to monitor it, otherwise it reads the data in `silently' (this can be useful when called by other functions)\n"
   ]
  },
  {
   "cell_type": "code",
   "execution_count": 33,
   "metadata": {
    "collapsed": false,
    "deletable": false,
    "nbgrader": {
     "cell_type": "code",
     "checksum": "a1a2dd55639c69e7c8d784a3959b8869",
     "grade": false,
     "grade_id": "78f8a7",
     "locked": false,
     "schema_version": 3,
     "solution": true,
     "task": false
    }
   },
   "outputs": [
   ],
   "source": [
    "def get_temperatures (stations, quiet=True):\n",
    "    towns = sorted(list(stations.keys()))\n",
    "    max_length = max([len(x) for x in towns])\n",
    "    tables = []\n",
    "    for station in towns:\n",
    "        path = temperature_file (station)\n",
    "        data = np.genfromtxt(path,delimiter=\",\",skip_header = 1, filling_values=np.nan, usecols = (np.arange(2,16)))\n",
    "        tables.append(data)\n",
    "        if quiet == False: #if not quiet also works!!!\n",
    "            print('Collecting data for {town:<{width}} : {y_range:4.0f} years recorded between {first:.0f} and {last:.0f}'.format\n",
    "                  (town= station, first=data[0,0],last = data[-1,0], y_range = len(data),width = max_length))\n",
    "    return towns,tables\n",
    "\n"
   ]
  },
  {
   "cell_type": "code",
   "execution_count": 34,
   "metadata": {
    "collapsed": false,
    "deletable": false,
    "editable": false,
    "nbgrader": {
     "grade": true,
     "grade_id": "get_temperatures",
     "locked": true,
     "points": 1,
     "schema_version": 3,
     "solution": false,
     "task": false
    }
   },
   "outputs": [
    {
     "name": "stdout",
     "output_type": "stream",
     "text": [
      "So far so good.\n"
     ]
    }
   ],
   "source": [
    "from nose.tools import assert_equal\n",
    "(towns, tables) = get_temperatures(STATIONS, quiet=True)\n",
    "assert_equal(towns, ['Albany', 'Broome', 'Geraldton', 'Perth'])\n",
    "geraldton = tables[towns.index(\"Geraldton\")]\n",
    "assert_equal(geraldton[0,0],1880.)\n",
    "assert_equal(geraldton[1,-2],28.9)\n",
    "print(\"So far so good.\")\n"
   ]
  },
  {
   "cell_type": "markdown",
   "metadata": {
    "collapsed": false
   },
   "source": [
    "## Data Cleaning and Conversion\n"
   ]
  },
  {
   "cell_type": "markdown",
   "metadata": {
    "collapsed": false
   },
   "source": [
    "#### Selecting a row or column\n",
    "\n",
    "We can use the slice operators in the usual way to refer to all the data between some bounds (optionally with stride). So to get all the years, for example, we can select _all rows_ and the _zeroth column_:\n",
    "\n",
    "```\n",
    "(towns, tables) = get_temperatures(STATIONS)\n",
    "albany = tables[towns.index(\"Albany\")]\n",
    "albany[:,0]\n",
    "\n",
    "array([1880., 1881., 1882., 1883., 1884., 1885., 1886., 1887., 1888.,\n",
    "       1889., 1890., 1891., 1892., 1893., 1894., 1895., 1896., 1897.,\n",
    "       1898., 1899., 1900., 1901., 1902., 1903., 1904., 1905., 1906.,\n",
    "       1907., 1908., 1909., 1910., 1911., 1912., 1913., 1914., 1915.,\n",
    "       1916., 1917., 1918., 1919., 1920., 1921., 1922., 1923., 1924.,\n",
    "...\n",
    "```\n",
    "\n",
    "* Using Albany as an example, use array selection to return:\n",
    "  * the first row of data\n",
    "  * the last row of data\n",
    "  * all the annual averages in the last column\n",
    "\n",
    "* Use selection and numpy methods to find the minimum and maximum of the temperatures for the first recorded year for Albany. \n",
    "\n",
    "(The table actually contains the mean maximum temperatures for the months, so to be completely precise it is, for example, the minimum of the mean maximum temperatures, but we'll just refer to this as the minimum of the \"temperatures\".)\n",
    "\n",
    "* Using array selection and numpy functions, find the minimum and maximum February temperatures for Albany.\n",
    "\n",
    "_Hint: If you are not getting what you expect, take a look at `np.nanmin()` and `np.nanmax()`._\n"
   ]
  },
  {
   "cell_type": "code",
   "execution_count": 35,
   "metadata": {
    "collapsed": false
   },
   "outputs": [
   ],
   "source": [
    "(towns, tables) = get_temperatures(STATIONS)\n",
    "albany = tables[towns.index(\"Albany\")]"
   ]
  },
  {
   "cell_type": "code",
   "execution_count": 36,
   "metadata": {
    "collapsed": false
   },
   "outputs": [
    {
     "data": {
      "text/plain": [
       "array([1880. ,   22.1,   22.8,   20.6,   19.2,   17.5,   14.7,   15.1,\n",
       "         15.2,   16.2,   16.2,   18. ,   20.8,   18.2])"
      ]
     },
     "execution_count": 36,
     "metadata": {
     },
     "output_type": "execute_result"
    }
   ],
   "source": [
    "albany [0,:]"
   ]
  },
  {
   "cell_type": "code",
   "execution_count": 37,
   "metadata": {
    "collapsed": false
   },
   "outputs": [
    {
     "data": {
      "text/plain": [
       "array([2022. ,   22.4,   23.6,   22.6,   21.4,   19. ,   17.6,   17.2,\n",
       "         15.9,    nan,    nan,    nan,    nan,    nan])"
      ]
     },
     "execution_count": 37,
     "metadata": {
     },
     "output_type": "execute_result"
    }
   ],
   "source": [
    "albany [-1,:]"
   ]
  },
  {
   "cell_type": "code",
   "execution_count": 38,
   "metadata": {
    "collapsed": false
   },
   "outputs": [
    {
     "data": {
      "text/plain": [
       "array([18.2, 18.2, 17.8, 17.8, 17.9, 17.8, 17.6, 17.3, 18.4, 17.1, 17. ,\n",
       "       18.3, 18.8, 18.9, 19.8, 19.6, 20.1, 19.6, 20.1, 19.7, 19. , 19.8,\n",
       "       19.4, 18.8, 19.7, 18.9, 19.7, 20.1, 19.7, 20. , 20.2, 20. , 19.9,\n",
       "       19.5, 19.8, 20. , 20. , 19.5, 20.8, 20.3, 20.6, 21. , 19.9, 20. ,\n",
       "       20. , 19.5, 19.2, 19.4, 19.3, 18.9, 20.4, 19.3, 19.8, 20.3, 20.3,\n",
       "       19.4, 19.8, 20. ,  nan, 19.9, 20.4, 20. , 19.6, 19.1, 19.6, 19.7,\n",
       "       19.5, 19.4, 19.9, 20.1, 20. , 19.3, 19.3, 19.4, 19.7, 19. , 19.3,\n",
       "       20.2, 19.8, 20.1, 18.8, 20.3, 20.1, 20.1, 19.1,  nan,  nan, 19.8,\n",
       "       19.6, 19.4, 19.6, 19.7, 19.5, 19.6, 19.8, 20.4, 20.8, 20.3, 20.3,\n",
       "       20.3, 19.4, 19.7, 19.7, 19.9, 20.1, 19.7,  nan])"
      ]
     },
     "execution_count": 38,
     "metadata": {
     },
     "output_type": "execute_result"
    }
   ],
   "source": [
    "albany [:,-1]"
   ]
  },
  {
   "cell_type": "code",
   "execution_count": 39,
   "metadata": {
    "collapsed": false
   },
   "outputs": [
    {
     "data": {
      "text/plain": [
       "14.7"
      ]
     },
     "execution_count": 39,
     "metadata": {
     },
     "output_type": "execute_result"
    }
   ],
   "source": [
    "np.nanmin(albany [0,1:-1])"
   ]
  },
  {
   "cell_type": "code",
   "execution_count": 40,
   "metadata": {
    "collapsed": false
   },
   "outputs": [
    {
     "data": {
      "text/plain": [
       "22.8"
      ]
     },
     "execution_count": 40,
     "metadata": {
     },
     "output_type": "execute_result"
    }
   ],
   "source": [
    "np.nanmax(albany [0,1:-1])"
   ]
  },
  {
   "cell_type": "code",
   "execution_count": 41,
   "metadata": {
    "collapsed": false
   },
   "outputs": [
    {
     "data": {
      "text/plain": [
       "19.8"
      ]
     },
     "execution_count": 41,
     "metadata": {
     },
     "output_type": "execute_result"
    }
   ],
   "source": [
    "np.nanmin(albany [:,2])"
   ]
  },
  {
   "cell_type": "code",
   "execution_count": 42,
   "metadata": {
    "collapsed": false
   },
   "outputs": [
    {
     "data": {
      "text/plain": [
       "26.4"
      ]
     },
     "execution_count": 42,
     "metadata": {
     },
     "output_type": "execute_result"
    }
   ],
   "source": [
    "np.nanmax(albany [:,2])"
   ]
  },
  {
   "cell_type": "markdown",
   "metadata": {
    "collapsed": false
   },
   "source": [
    "#### Selecting an area\n",
    "\n",
    "* Use a slice to select the _first 4 months_ of data for the _first 3 years_ recorded.\n",
    "\n",
    "Your code should be of the form:\n",
    "\n",
    "&nbsp;&nbsp;`albany[`*select the 3 rows here*`,` *select the 4 columns here*`]`.\n",
    "\n",
    "Check against the original csv file to ensure you have selected the correct data."
   ]
  },
  {
   "cell_type": "code",
   "execution_count": 43,
   "metadata": {
    "collapsed": false
   },
   "outputs": [
    {
     "data": {
      "text/plain": [
       "array([[22.1, 22.8, 20.6, 19.2],\n",
       "       [20.1, 22.2, 22.2, 19.6],\n",
       "       [20.2, 22.1, 20.1, 18.8]])"
      ]
     },
     "execution_count": 43,
     "metadata": {
     },
     "output_type": "execute_result"
    }
   ],
   "source": [
    "albany [:3,1:5]"
   ]
  },
  {
   "cell_type": "code",
   "execution_count": 46,
   "metadata": {
    "collapsed": false
   },
   "outputs": [
    {
     "data": {
      "text/plain": [
       "array([[22.1, 22.8, 20.6, 19.2],\n",
       "       [20.6, 20.8, 19.9, 19. ],\n",
       "       [21.8, 23.8, 20.7, 19.1],\n",
       "       [24.1, 25.2, 24.3, 23.8],\n",
       "       [25.3, 24.2, 23.8, 22.8],\n",
       "       [23.5, 23. , 22.7, 21.8],\n",
       "       [23.3, 24.9, 23.6, 21.1],\n",
       "       [23.4, 23.5, 23.3, 23.1],\n",
       "       [21.8, 22.8, 20.7, 18.5],\n",
       "       [20.5, 21.7, 21.9, 18.6],\n",
       "       [22.7, 23.4, 22.6, 20.6]])"
      ]
     },
     "execution_count": 46,
     "metadata": {
     },
     "output_type": "execute_result"
    }
   ],
   "source": [
    "albany[::10, 1:5]"
   ]
  },
  {
   "cell_type": "code",
   "execution_count": 0,
   "metadata": {
    "collapsed": false
   },
   "outputs": [
   ],
   "source": [
   ]
  },
  {
   "cell_type": "markdown",
   "metadata": {
    "collapsed": false
   },
   "source": [
    "#### Two ways to skin a cat? (Avoiding a potential pitfall)\n",
    "\n",
    "* Use selection to print the temperature for January 1882 (`albany[2,1]`).\n",
    "* Now use selection to extract the row for 1882, then use selection on the result to extract the January reading (`albany[2][1])`.\n",
    "\n",
    "What do you notice?"
   ]
  },
  {
   "cell_type": "code",
   "execution_count": 105,
   "metadata": {
    "collapsed": false
   },
   "outputs": [
    {
     "data": {
      "text/plain": [
       "20.2"
      ]
     },
     "execution_count": 105,
     "metadata": {
     },
     "output_type": "execute_result"
    }
   ],
   "source": [
    "albany[2,1]"
   ]
  },
  {
   "cell_type": "code",
   "execution_count": 106,
   "metadata": {
    "collapsed": false
   },
   "outputs": [
    {
     "data": {
      "text/plain": [
       "20.2"
      ]
     },
     "execution_count": 106,
     "metadata": {
     },
     "output_type": "execute_result"
    }
   ],
   "source": [
    "albany[2][1]"
   ]
  },
  {
   "cell_type": "markdown",
   "metadata": {
    "collapsed": false
   },
   "source": [
    "* Now use selection to extract the area containing the first 2 months of temperature data for the first 3 years, `albany[:3,1:3]`.\n",
    "\n",
    "* Then try `albany[:3][1:3]`.\n",
    "\n",
    "What do you find?\n",
    "\n",
    "Why is it different? Why did it work for selecting one item?\n",
    "\n",
    "* What would you need to put in the second set of brackets to get the same result? Try this out."
   ]
  },
  {
   "cell_type": "code",
   "execution_count": 107,
   "metadata": {
    "collapsed": false
   },
   "outputs": [
    {
     "data": {
      "text/plain": [
       "array([[22.1, 22.8],\n",
       "       [20.1, 22.2],\n",
       "       [20.2, 22.1]])"
      ]
     },
     "execution_count": 107,
     "metadata": {
     },
     "output_type": "execute_result"
    }
   ],
   "source": [
    "albany[:3,1:3]"
   ]
  },
  {
   "cell_type": "code",
   "execution_count": 108,
   "metadata": {
    "collapsed": false
   },
   "outputs": [
    {
     "data": {
      "text/plain": [
       "array([[1881. ,   20.1,   22.2,   22.2,   19.6,   17.1,   14.4,   15.3,\n",
       "          15.5,   16.4,   16.1,   18.7,   20.7,   18.2],\n",
       "       [1882. ,   20.2,   22.1,   20.1,   18.8,   16.3,   14.6,   14.4,\n",
       "          14.9,   16.4,   17.3,   17.8,   20.8,   17.8]])"
      ]
     },
     "execution_count": 108,
     "metadata": {
     },
     "output_type": "execute_result"
    }
   ],
   "source": [
    "albany[:3][1:3]"
   ]
  },
  {
   "cell_type": "code",
   "execution_count": 110,
   "metadata": {
    "collapsed": false
   },
   "outputs": [
    {
     "data": {
      "text/plain": [
       "array([[22.1, 22.8],\n",
       "       [20.1, 22.2],\n",
       "       [20.2, 22.1]])"
      ]
     },
     "execution_count": 110,
     "metadata": {
     },
     "output_type": "execute_result"
    }
   ],
   "source": [
    "albany[:3][:,1:3]"
   ]
  },
  {
   "cell_type": "markdown",
   "metadata": {
    "collapsed": false
   },
   "source": [
    "#### Specifying an axis\n",
    "\n",
    "Lets say we want to print the maximim temperatures for the first four years.\n",
    "\n",
    "If we try\n",
    "```\n",
    "print(albany[0:4,1:].max())\n",
    "```\n",
    "what do we get?\n",
    "\n",
    "`ndarray.max()` (see also `numpy.amax()`) is an example of a method that can be applied to different _axes_ of the array.\n",
    "\n",
    "* Use the `axis` argument to print the maximum temperatures for Albany for the first 4 years."
   ]
  },
  {
   "cell_type": "code",
   "execution_count": 45,
   "metadata": {
    "collapsed": false
   },
   "outputs": [
    {
     "name": "stdout",
     "output_type": "stream",
     "text": [
      "22.8\n"
     ]
    }
   ],
   "source": [
    "print(albany[0:4,1:].max())\n"
   ]
  },
  {
   "cell_type": "code",
   "execution_count": 115,
   "metadata": {
    "collapsed": false
   },
   "outputs": [
    {
     "data": {
      "text/plain": [
       "array([22.8, 22.2, 22.1, 21.9])"
      ]
     },
     "execution_count": 115,
     "metadata": {
     },
     "output_type": "execute_result"
    }
   ],
   "source": [
    "np.max(albany[0:4,1:], axis = 1)"
   ]
  },
  {
   "cell_type": "code",
   "execution_count": 113,
   "metadata": {
    "collapsed": false
   },
   "outputs": [
    {
     "name": "stdout",
     "output_type": "stream",
     "text": [
      "[[22.1 22.8 20.6 19.2 17.5 14.7 15.1 15.2 16.2 16.2 18.  20.8 18.2]\n",
      " [20.1 22.2 22.2 19.6 17.1 14.4 15.3 15.5 16.4 16.1 18.7 20.7 18.2]\n",
      " [20.2 22.1 20.1 18.8 16.3 14.6 14.4 14.9 16.4 17.3 17.8 20.8 17.8]\n",
      " [20.7 20.5 19.9 20.1 17.3 15.9 14.5 14.1 14.4 16.5 18.2 21.9 17.8]]\n"
     ]
    }
   ],
   "source": [
    "print(albany[0:4,1:])"
   ]
  },
  {
   "cell_type": "markdown",
   "metadata": {
    "collapsed": false
   },
   "source": [
    "### Comparing the towns\n",
    "\n",
    "* Write a method that, for each town, finds the decade with the largest difference between the highest and lowest temperatures. Your method should print out a table with the town, decade, highest temperature, lowest temperature and the difference.\n",
    "\n",
    "Which town has the highest temperature difference overall?\n",
    "\n",
    "* Repeat the above using the standard deviation of the temperatures.\n",
    "\n",
    "Which town has the highest standard deviation in one decade?\n",
    "\n"
   ]
  },
  {
   "cell_type": "code",
   "execution_count": 0,
   "metadata": {
    "collapsed": false
   },
   "outputs": [
   ],
   "source": [
   ]
  },
  {
   "cell_type": "code",
   "execution_count": 116,
   "metadata": {
    "collapsed": false
   },
   "outputs": [
   ],
   "source": [
    "def max_difference(my_table):\n",
    "    start = my_table[0,0].astype(int)//10*10\n",
    "    end = my_table[-1,0].astype(int)//10*10\n",
    "    decade_array = np.arange(start,end,10)\n",
    "    dif = 0\n",
    "    decade = 0\n",
    "    min_result = 0\n",
    "    max_result = 0\n",
    "    for i in decade_array:\n",
    "        mask = np.logical_and(my_table[:,0]>= i,my_table[:,0]<i+10)\n",
    "        my_array = my_table[mask]\n",
    "        my_temp = my_array[:,1:-1]\n",
    "        if my_temp.size != 0:\n",
    "            my_min = np.nanmin(my_temp)\n",
    "            my_max = np.nanmax(my_temp)\n",
    "            difference = my_max - my_min\n",
    "            if difference > dif:\n",
    "                dif = difference\n",
    "                decade = i\n",
    "                min_result = my_min\n",
    "                max_result = my_max\n",
    "    return dif,decade,min_result,max_result\n",
    "        "
   ]
  },
  {
   "cell_type": "code",
   "execution_count": 130,
   "metadata": {
    "collapsed": false
   },
   "outputs": [
    {
     "name": "stdout",
     "output_type": "stream",
     "text": [
      "Town: Albany     | Decade : 1890  - 1900| Highest Temp: 24.4| Lowest Temp: 12.4| difference:12.00\n",
      "Town: Broome     | Decade : 1950  - 1960| Highest Temp: 36.4| Lowest Temp: 25.8| difference:10.60\n",
      "Town: Geraldton  | Decade : 1880  - 1890| Highest Temp: 34.6| Lowest Temp: 17.8| difference:16.80\n",
      "Town: Perth      | Decade : 1980  - 1990| Highest Temp: 36.3| Lowest Temp: 16.2| difference:20.10\n"
     ]
    }
   ],
   "source": [
    "(towns,tables) = get_temperatures (STATIONS, quiet=True)\n",
    "towns\n",
    "for i in towns:\n",
    "    my_table = tables[towns.index(i)]\n",
    "    a,b,c,d = max_difference(my_table)\n",
    "    print('Town: {town:<10} | Decade : {decade:<5} - {decade_2:<4}| Highest Temp: {high}| Lowest Temp: {low}| difference:{differ:0.2f}'.format(town = i, decade = b, decade_2 = b+10 ,high = d, low = c , differ = a))\n",
    "    \n"
   ]
  },
  {
   "cell_type": "code",
   "execution_count": 126,
   "metadata": {
    "collapsed": false
   },
   "outputs": [
   ],
   "source": [
    "def max_sd (my_table):\n",
    "    start = my_table[0,0].astype(int)//10*10\n",
    "    end = my_table[-1,0].astype(int)//10*10\n",
    "    decade_array = np.arange(start,end,10)\n",
    "    sd = 0\n",
    "    decade = 0\n",
    "    for i in decade_array:\n",
    "        mask = np.logical_and(my_table[:,0]>= i,my_table[:,0]<i+10)\n",
    "        my_array = my_table[mask]\n",
    "        my_temp = my_array[:,1:-1]\n",
    "        if my_temp.size != 0:\n",
    "            my_sd = np.std(my_temp)\n",
    "            if my_sd > sd:\n",
    "                sd = my_sd\n",
    "                decade = i\n",
    "    return sd,decade"
   ]
  },
  {
   "cell_type": "code",
   "execution_count": 129,
   "metadata": {
    "collapsed": false
   },
   "outputs": [
    {
     "name": "stdout",
     "output_type": "stream",
     "text": [
      "Town: Albany     | Decade : 1950  - 1960| max_sd:2.96\n",
      "Town: Broome     | Decade : 1950  - 1960| max_sd:2.37\n",
      "Town: Geraldton  | Decade : 1880  - 1890| max_sd:4.18\n",
      "Town: Perth      | Decade : 1970  - 1980| max_sd:5.32\n"
     ]
    }
   ],
   "source": [
    "(towns,tables) = get_temperatures (STATIONS, quiet=True)\n",
    "for i in towns:\n",
    "    my_table = tables[towns.index(i)]\n",
    "    a,b = max_sd(my_table)\n",
    "    print('Town: {town:<10} | Decade : {decade:<5} - {decade_2:<4}| max_sd:{sd:0.2f}'.format(town = i, decade = b, decade_2 = b+10, sd = a))\n",
    "    "
   ]
  },
  {
   "cell_type": "code",
   "execution_count": 35,
   "metadata": {
    "collapsed": false
   },
   "outputs": [
    {
     "name": "stdout",
     "output_type": "stream",
     "text": [
      "[1, 2, 3, 4, 5, 6]\n",
      "[11, 12]\n"
     ]
    }
   ],
   "source": [
    "a = [1,2,3,4,5,6]\n",
    "b = a[:2]\n",
    "\n",
    "for idx in range(len(b)):\n",
    "    b[idx] += 10\n",
    "\n",
    "print(a)\n",
    "print(b)"
   ]
  },
  {
   "cell_type": "code",
   "execution_count": 2,
   "metadata": {
    "collapsed": false
   },
   "outputs": [
    {
     "name": "stdout",
     "output_type": "stream",
     "text": [
      "[11 12  3  4  5  6]\n",
      "[11 12]\n"
     ]
    }
   ],
   "source": [
    "import numpy as np\n",
    "a = np.array([1, 2, 3, 4, 5, 6])\n",
    "b = a[:2]\n",
    "b += 10\n",
    "\n",
    "print(a)\n",
    "print(b)"
   ]
  },
  {
   "cell_type": "code",
   "execution_count": 0,
   "metadata": {
    "collapsed": false
   },
   "outputs": [
   ],
   "source": [
    "a = range(1,20)"
   ]
  },
  {
   "cell_type": "code",
   "execution_count": 0,
   "metadata": {
    "collapsed": false
   },
   "outputs": [
   ],
   "source": [
   ]
  },
  {
   "cell_type": "code",
   "execution_count": 0,
   "metadata": {
    "collapsed": false
   },
   "outputs": [
   ],
   "source": [
   ]
  },
  {
   "cell_type": "code",
   "execution_count": 37,
   "metadata": {
    "collapsed": false
   },
   "outputs": [
    {
     "name": "stdout",
     "output_type": "stream",
     "text": [
      "[11, 12, 13, 14, 15, 16]\n",
      "[11, 12, 13, 14, 15, 16]\n"
     ]
    }
   ],
   "source": [
    "a = [1,2,3,4,5,6]\n",
    "b = a\n",
    "\n",
    "for idx in range(len(b)):\n",
    "    b[idx] += 10\n",
    "\n",
    "print(a)\n",
    "print(b)"
   ]
  },
  {
   "cell_type": "code",
   "execution_count": 32,
   "metadata": {
    "collapsed": false
   },
   "outputs": [
    {
     "name": "stdout",
     "output_type": "stream",
     "text": [
      "[[1, 2, 3, 100], [4, 5, 6]]\n",
      "[1, 2, 3, 100]\n"
     ]
    }
   ],
   "source": [
    "a = [[1, 2, 3],[4, 5, 6]]\n",
    "b = a[0]\n",
    "\n",
    "b.append(100)\n",
    "\n",
    "print(a)\n",
    "print(b)"
   ]
  },
  {
   "cell_type": "code",
   "execution_count": 3,
   "metadata": {
    "collapsed": false,
    "scrolled": true
   },
   "outputs": [
    {
     "name": "stdout",
     "output_type": "stream",
     "text": [
      "[[11 12 13]\n",
      " [ 4  5  6]]\n",
      "[11 12 13]\n"
     ]
    }
   ],
   "source": [
    "a = np.array([[1, 2, 3],[4, 5, 6]])\n",
    "b = a[0]\n",
    "b += 10\n",
    "\n",
    "print(a)\n",
    "print(b)"
   ]
  },
  {
   "cell_type": "code",
   "execution_count": 15,
   "metadata": {
    "collapsed": false
   },
   "outputs": [
    {
     "data": {
      "text/plain": [
       "True"
      ]
     },
     "execution_count": 15,
     "metadata": {
     },
     "output_type": "execute_result"
    }
   ],
   "source": [
    "a = list(range(0,30))\n",
    "b = slice(0,30,3)\n",
    "a[b] == a[::3]"
   ]
  },
  {
   "cell_type": "code",
   "execution_count": 16,
   "metadata": {
    "collapsed": false
   },
   "outputs": [
    {
     "data": {
      "text/plain": [
       "[12, 23, 23, 100]"
      ]
     },
     "execution_count": 16,
     "metadata": {
     },
     "output_type": "execute_result"
    }
   ],
   "source": [
    "a = [12,23,23]\n",
    "b = [100]\n",
    "a+b"
   ]
  },
  {
   "cell_type": "code",
   "execution_count": 118,
   "metadata": {
    "collapsed": false
   },
   "outputs": [
    {
     "data": {
      "text/plain": [
       "False"
      ]
     },
     "execution_count": 118,
     "metadata": {
     },
     "output_type": "execute_result"
    }
   ],
   "source": [
    "bool(0)\n"
   ]
  },
  {
   "cell_type": "code",
   "execution_count": 16,
   "metadata": {
    "collapsed": false
   },
   "outputs": [
    {
     "data": {
      "text/plain": [
       "array([3, 5, 7, 9])"
      ]
     },
     "execution_count": 16,
     "metadata": {
     },
     "output_type": "execute_result"
    }
   ],
   "source": [
    "a = np.array([[1,2,3,4],[2,3,4,5]])\n",
    "a.sum(axis = 0)\n",
    "\n",
    "\n"
   ]
  },
  {
   "cell_type": "code",
   "execution_count": 122,
   "metadata": {
    "collapsed": false
   },
   "outputs": [
    {
     "data": {
      "text/plain": [
       "[3.4, 3.0, 0.8, nan]"
      ]
     },
     "execution_count": 122,
     "metadata": {
     },
     "output_type": "execute_result"
    }
   ],
   "source": [
    "a = [\"3.4\",\"3\",\"0.8\",\"ajd\"]\n",
    "b = [float(x) if x[0].isdigit() else float(\"Nan\") for x in a]\n",
    "def myfun(x):\n",
    "    b = []\n",
    "    for i in x:\n",
    "        try:\n",
    "            b.append(float(i))\n",
    "        except:\n",
    "            b.append(float(\"Nan\"))\n",
    "    return b\n",
    "myfun(a)            \n",
    "   "
   ]
  },
  {
   "cell_type": "code",
   "execution_count": 125,
   "metadata": {
    "collapsed": false
   },
   "outputs": [
    {
     "data": {
      "text/plain": [
       "True"
      ]
     },
     "execution_count": 125,
     "metadata": {
     },
     "output_type": "execute_result"
    }
   ],
   "source": [
    "x = \"1.23d\"\n",
    "x[0].isdigit()"
   ]
  },
  {
   "cell_type": "markdown",
   "metadata": {
    "collapsed": false
   },
   "source": [
    "&copy; Cara MacNish"
   ]
  }
 ],
 "metadata": {
  "kernelspec": {
   "display_name": "Python 3 (system-wide)",
   "language": "python",
   "metadata": {
    "cocalc": {
     "description": "Python 3 programming language",
     "priority": 100,
     "url": "https://www.python.org/"
    }
   },
   "name": "python3",
   "resource_dir": "/ext/jupyter/kernels/python3"
  },
  "language_info": {
   "codemirror_mode": {
    "name": "ipython",
    "version": 3
   },
   "file_extension": ".py",
   "mimetype": "text/x-python",
   "name": "python",
   "nbconvert_exporter": "python",
   "pygments_lexer": "ipython3",
   "version": "3.8.10"
  },
  "nbgrader": {
   "__altered": false,
   "__hash": 462996227,
   "_root": {
    "entries": [
     [
      "size",
      6
     ],
     [
      "_root",
      {
       "entries": [
        [
         "size",
         6
        ],
        [
         "_root",
         {
          "entries": [
           [
            "size",
            1
           ],
           [
            "_root",
            {
             "entries": [
              [
               "cocalc_minimal_stubs",
               false
              ]
             ],
             "ownerID": {
             }
            }
           ],
           [
            "__ownerID",
            null
           ],
           [
            "__hash",
            -335098374
           ],
           [
            "__altered",
            false
           ],
           [
            "cocalc_minimal_stubs",
            false
           ]
          ],
          "ownerID": {
          }
         }
        ],
        [
         "__ownerID",
         null
        ],
        [
         "__hash",
         633336276
        ],
        [
         "__altered",
         false
        ],
        [
         "cocalc_minimal_stubs",
         false
        ]
       ],
       "ownerID": {
       }
      }
     ],
     [
      "__ownerID",
      null
     ],
     [
      "__hash",
      -341060574
     ],
     [
      "__altered",
      false
     ],
     [
      "cocalc_minimal_stubs",
      false
     ]
    ],
    "ownerID": {
    }
   },
   "cocalc_minimal_stubs": false,
   "size": 6
  }
 },
 "nbformat": 4,
 "nbformat_minor": 4
}